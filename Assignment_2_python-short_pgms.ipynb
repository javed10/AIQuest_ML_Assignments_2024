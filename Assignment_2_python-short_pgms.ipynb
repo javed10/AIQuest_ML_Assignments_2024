{
 "cells": [
  {
   "cell_type": "markdown",
   "id": "9c29dc47-0dcf-4e54-a161-500b99582b27",
   "metadata": {},
   "source": [
    "### 1. Variable Swap: Write a Python program to swap the values of two variables without using a temporary variable."
   ]
  },
  {
   "cell_type": "code",
   "execution_count": 1,
   "id": "46e87c3f-1666-48fa-8867-b8795e7804c7",
   "metadata": {},
   "outputs": [],
   "source": [
    "a = 5\n",
    "b = 4\n",
    "b = a + b\n",
    "a = b - a\n",
    "b = b - a"
   ]
  },
  {
   "cell_type": "code",
   "execution_count": 2,
   "id": "f90f7827-6e72-477b-afc1-ea3f734e45c4",
   "metadata": {},
   "outputs": [
    {
     "name": "stdout",
     "output_type": "stream",
     "text": [
      "Value of a:  4\n"
     ]
    }
   ],
   "source": [
    "print(\"Value of a: \",a)"
   ]
  },
  {
   "cell_type": "code",
   "execution_count": 3,
   "id": "d4c77ab2-4201-42b9-af0c-d8ed60372877",
   "metadata": {},
   "outputs": [
    {
     "name": "stdout",
     "output_type": "stream",
     "text": [
      "Value of b:  5\n"
     ]
    }
   ],
   "source": [
    "print(\"Value of b: \",b)"
   ]
  },
  {
   "cell_type": "markdown",
   "id": "5ec50b59-8d1f-4235-abc3-f0b9cbf2b2b9",
   "metadata": {},
   "source": [
    "### 2. Even or Odd: Write a Python program that takes an integer as input and prints whether it is even or odd."
   ]
  },
  {
   "cell_type": "code",
   "execution_count": 16,
   "id": "bcfc5046-0a31-4f76-9ff1-76e4d9cdc49b",
   "metadata": {},
   "outputs": [
    {
     "name": "stdin",
     "output_type": "stream",
     "text": [
      "Enter a valid number: a\n",
      "Please enter a valid number: a\n",
      "Please enter a valid number: v\n",
      "Please enter a valid number: r\n",
      "Please enter a valid number: 3\n"
     ]
    },
    {
     "name": "stdout",
     "output_type": "stream",
     "text": [
      "Odd number entered:  3\n"
     ]
    }
   ],
   "source": [
    "userInput = input(\"Enter a valid number:\")\n",
    "                  \n",
    "while not userInput.isdigit():\n",
    "    userInput = input(\"Please enter a valid number:\")\n",
    "\n",
    "if userInput.isdigit():\n",
    "    if int(userInput) % 2 == 0:\n",
    "        print(\"Even number entered: \", userInput)\n",
    "    else:\n",
    "        print(\"Odd number entered: \", userInput)\n",
    "                      "
   ]
  },
  {
   "cell_type": "markdown",
   "id": "cfdcb3ca-6ae0-457d-8173-4b8d761ecfe9",
   "metadata": {},
   "source": [
    "### 3. String Reverse: Write a Python function to reverse a given string and return the reversed string."
   ]
  },
  {
   "cell_type": "code",
   "execution_count": 23,
   "id": "28267326-b593-4831-9ba1-0d62e84ea1fe",
   "metadata": {},
   "outputs": [
    {
     "data": {
      "text/plain": [
       "'OLLEH'"
      ]
     },
     "execution_count": 23,
     "metadata": {},
     "output_type": "execute_result"
    }
   ],
   "source": [
    "def reverse(x):\n",
    "    return x[::-1]\n",
    "\n",
    "str1 = \"HELLO\"\n",
    "reverse(str1)"
   ]
  },
  {
   "cell_type": "markdown",
   "id": "8d34129f-13da-48d3-b1b6-6d9f370f0a93",
   "metadata": {},
   "source": [
    "### 4. Type Conversion: Given a list of integers, write a Python program to convert each element of the list to a string."
   ]
  },
  {
   "cell_type": "code",
   "execution_count": 29,
   "id": "81c4607a-dfb5-4de7-8810-127efbf0f068",
   "metadata": {},
   "outputs": [
    {
     "name": "stdout",
     "output_type": "stream",
     "text": [
      "1 6 2 8 9 4 5 3 "
     ]
    }
   ],
   "source": [
    "list1 = [1, 6, 2, 8, 9, 4, 5, 3]\n",
    "\n",
    "for i in list1:\n",
    "    print(str(i), end = \" \")"
   ]
  },
  {
   "cell_type": "markdown",
   "id": "64af2da7-aef8-4e6e-8ecb-137e5dc2f826",
   "metadata": {},
   "source": [
    "### 5. Temperature Converter: Write a Python program that converts a temperature in Celsius to Fahrenheit. Take the Celsius temperature as input from the user."
   ]
  },
  {
   "cell_type": "code",
   "execution_count": 46,
   "id": "9e72a8cc-eee7-46ef-97ff-3734791b20da",
   "metadata": {},
   "outputs": [
    {
     "name": "stdin",
     "output_type": "stream",
     "text": [
      "Enter the degrees to convert : 30\n",
      "convert to F or C : c\n"
     ]
    },
    {
     "data": {
      "text/plain": [
       "(-1.1, 'c')"
      ]
     },
     "execution_count": 46,
     "metadata": {},
     "output_type": "execute_result"
    }
   ],
   "source": [
    "def tempConvert(x,y):\n",
    "    if (x.isdigit()) and (y == \"F\" or y == \"f\" or y == \"C\" or y == \"c\"):\n",
    "        if y == \"C\" or y == \"c\":\n",
    "            result = (int(x) -32) * 5/9\n",
    "            return round(result, 1), y\n",
    "        else:\n",
    "            result = int(x) * 9/5 + 32\n",
    "            return round(result, 1), y\n",
    "\n",
    "degrees = input(\"Enter the degrees to convert :\")\n",
    "convertto = input(\"convert to F or C :\")\n",
    "\n",
    "tempConvert(degrees, convertto)        \n"
   ]
  },
  {
   "cell_type": "markdown",
   "id": "42519622-5350-404e-bd0e-f2233c98e863",
   "metadata": {},
   "source": [
    "### 6. Data Type Checker: Write a Python function that takes a variable as input and returns the data type of the variable as a string (e.g., “int”, “float”, “str”, “list”, etc.)."
   ]
  },
  {
   "cell_type": "code",
   "execution_count": 59,
   "id": "5a08c382-3f3c-4a43-8a80-cfe736ff8796",
   "metadata": {},
   "outputs": [],
   "source": [
    "def dataTypeChecker(x):\n",
    "    result = type(x)\n",
    "    print(result)"
   ]
  },
  {
   "cell_type": "code",
   "execution_count": 48,
   "id": "f1da3db0-b714-45b2-b326-b2e9a1e72bb0",
   "metadata": {},
   "outputs": [
    {
     "name": "stdout",
     "output_type": "stream",
     "text": [
      "<class 'float'>\n"
     ]
    }
   ],
   "source": [
    "dataTypeChecker(22.5)"
   ]
  },
  {
   "cell_type": "code",
   "execution_count": 56,
   "id": "26c397c2-5749-471b-928e-e1f13cde8745",
   "metadata": {},
   "outputs": [
    {
     "name": "stdout",
     "output_type": "stream",
     "text": [
      "<class 'list'>\n"
     ]
    }
   ],
   "source": [
    "list1 = [1, 2, 3, 4, 5]\n",
    "dataTypeChecker(list1)"
   ]
  },
  {
   "cell_type": "code",
   "execution_count": 57,
   "id": "e448e31b-28fb-4a78-94df-7d262bb996d6",
   "metadata": {},
   "outputs": [
    {
     "name": "stdout",
     "output_type": "stream",
     "text": [
      "<class 'str'>\n"
     ]
    }
   ],
   "source": [
    "dataTypeChecker('Javed')"
   ]
  },
  {
   "cell_type": "code",
   "execution_count": 58,
   "id": "1b25b493-6db8-4e46-b857-7f3b96a6c146",
   "metadata": {},
   "outputs": [
    {
     "name": "stdout",
     "output_type": "stream",
     "text": [
      "<class 'int'>\n"
     ]
    }
   ],
   "source": [
    "dataTypeChecker(22)"
   ]
  },
  {
   "cell_type": "markdown",
   "id": "893552e2-4c64-49f9-84c9-b343c59f8867",
   "metadata": {},
   "source": [
    "### 7. String Palindrome: Write a Python function to check if a given string is a palindrome or not."
   ]
  },
  {
   "cell_type": "code",
   "execution_count": 82,
   "id": "d24e801e-bf8c-4ede-bd32-0270c7fb3ef7",
   "metadata": {},
   "outputs": [],
   "source": [
    "def isPalindrome(word):\n",
    "    \n",
    "    word_lst = list(word.lower())\n",
    "    print(word_lst)\n",
    "    word_lst_reversed = word_lst[::-1]\n",
    "    if word_lst == word_lst_reversed:\n",
    "        return print(word + \" is a palindrome\")\n",
    "    else:\n",
    "        return print(word + \" is not a palindrome\")"
   ]
  },
  {
   "cell_type": "code",
   "execution_count": 84,
   "id": "fed99a32-8aad-4b84-85f6-45e85a8eeaa7",
   "metadata": {},
   "outputs": [
    {
     "name": "stdout",
     "output_type": "stream",
     "text": [
      "['z', 'i', 'k', 'z', 'a', 'k']\n",
      "ZikZak is not a palindrome\n"
     ]
    }
   ],
   "source": [
    "isPalindrome('ZikZak')"
   ]
  },
  {
   "cell_type": "code",
   "execution_count": 85,
   "id": "bb3c0c70-e3d5-41c8-9870-62f5b90167e0",
   "metadata": {},
   "outputs": [
    {
     "name": "stdout",
     "output_type": "stream",
     "text": [
      "['r', 'a', 'd', 'a', 'r']\n",
      "radar is a palindrome\n"
     ]
    }
   ],
   "source": [
    "isPalindrome('radar')"
   ]
  },
  {
   "cell_type": "markdown",
   "id": "c05a2d80-28a5-4790-b2f2-63645ab21595",
   "metadata": {},
   "source": [
    "### 8. String Reversal with Slicing: Write a Python function to reverse a given string using slicing."
   ]
  },
  {
   "cell_type": "code",
   "execution_count": 100,
   "id": "6170fb80-fb52-49dc-b0fd-17e6f0aebcdb",
   "metadata": {},
   "outputs": [
    {
     "name": "stdout",
     "output_type": "stream",
     "text": [
      "fun is Python\n"
     ]
    }
   ],
   "source": [
    "sentence = \"Python is fun\"\n",
    "sentence_split = sentence.split()\n",
    "reverse_sentence = sentence_split[::-1]\n",
    "print(\" \".join(reverse_sentence))"
   ]
  },
  {
   "cell_type": "markdown",
   "id": "f29818dd-091a-4243-8809-d1640d0287af",
   "metadata": {},
   "source": [
    "### 9. String Concatenation: Write a Python program that takes two strings as input and concatenates them into a single string without using the `+` operator."
   ]
  },
  {
   "cell_type": "code",
   "execution_count": 105,
   "id": "84110667-dc68-43cc-973f-3a2e1a001dd6",
   "metadata": {},
   "outputs": [
    {
     "name": "stdout",
     "output_type": "stream",
     "text": [
      "Donald Trump\n"
     ]
    }
   ],
   "source": [
    "str1 = \"Donald\"\n",
    "str2 = \"Trump\"\n",
    "str1_str2 = \" \".join([str1, str2])\n",
    "print(str1_str2)"
   ]
  },
  {
   "cell_type": "markdown",
   "id": "066e566e-17a2-46e0-8409-426b033caa7b",
   "metadata": {},
   "source": [
    "### 10. Typecasting Challenge: Given three variables: `a = ‘100’`, `b = 25`, and `c = ‘10.5’`, write a Python program to perform the following operations and print the results: – Convert `a` to an integer and add it to `b`. – Convert `c` to a float and subtract it from the result of the first operation. – Convert the final result to a string and concatenate it with the string ” is the answer.”"
   ]
  },
  {
   "cell_type": "code",
   "execution_count": 123,
   "id": "fe62eade-664f-4503-a171-47ef9cd01682",
   "metadata": {},
   "outputs": [
    {
     "name": "stdout",
     "output_type": "stream",
     "text": [
      "a plus b is,  125\n",
      "a plus b minus c is,  114.5\n",
      "114.5  is the answer\n"
     ]
    }
   ],
   "source": [
    "a = '100'\n",
    "a_int = int(a)\n",
    "b = 25\n",
    "\n",
    "a_plus_b = int(a) + b \n",
    "print(\"a plus b is, \", a_plus_b)\n",
    "a_plus_b_minus_c = (int(a) + b) - float(c)\n",
    "print(\"a plus b minus c is, \", a_plus_b_minus_c)\n",
    "print(a_plus_b_minus_c, \" is the answer\")\n"
   ]
  },
  {
   "cell_type": "markdown",
   "id": "1878ccd1-99ec-475f-b7a8-24fe8f0a0f01",
   "metadata": {},
   "source": [
    "### Conditional statement\n",
    "### 11. Positive, Negative, or Zero: Write a Python program that takes a number as input and prints whether it is positive, negative, or zero."
   ]
  },
  {
   "cell_type": "code",
   "execution_count": 132,
   "id": "927dfab9-a1e3-4dd5-8e3f-b218b0f6d624",
   "metadata": {},
   "outputs": [],
   "source": [
    "def checkNumber(x):\n",
    "    if x > 0:\n",
    "        print(x, \" is positive\")\n",
    "    elif x < 0:\n",
    "        print(x, \" is negative\")\n",
    "    else:\n",
    "        print(x, \" is zero\")"
   ]
  },
  {
   "cell_type": "code",
   "execution_count": 134,
   "id": "e4546e94-0329-4cea-b7da-53962c2214fa",
   "metadata": {},
   "outputs": [
    {
     "name": "stdout",
     "output_type": "stream",
     "text": [
      "-0.1  is negative\n"
     ]
    }
   ],
   "source": [
    "checkNumber(-0.1)"
   ]
  },
  {
   "cell_type": "markdown",
   "id": "46075d3d-1f29-4114-ad6e-cf17a32980b5",
   "metadata": {},
   "source": [
    "### 12. Largest of Three Numbers: Write a Python program that takes three numbers as input and prints the largest among them."
   ]
  },
  {
   "cell_type": "code",
   "execution_count": 155,
   "id": "c3708cf3-4c8a-4ce4-9c58-49a4cfc0d34e",
   "metadata": {},
   "outputs": [],
   "source": [
    "def largestnumber(x, y, z):\n",
    "    list1 = []\n",
    "    list1.append(x)\n",
    "    list1.append(y)\n",
    "    list1.append(z)\n",
    "    list1 = sorted(list1)\n",
    "    return list1[1]"
   ]
  },
  {
   "cell_type": "code",
   "execution_count": 156,
   "id": "9e6b754f-1969-4b2c-b9f0-cfc0b880c70e",
   "metadata": {},
   "outputs": [
    {
     "data": {
      "text/plain": [
       "4"
      ]
     },
     "execution_count": 156,
     "metadata": {},
     "output_type": "execute_result"
    }
   ],
   "source": [
    "largestnumber(4, 7, 1)"
   ]
  },
  {
   "cell_type": "markdown",
   "id": "5dda22cd-8058-4594-97c2-3cfdb5e37162",
   "metadata": {},
   "source": [
    "### 13. Leap Year Checker: Write a Python program that takes a year as input and determines if it is a leap year or not."
   ]
  },
  {
   "cell_type": "code",
   "execution_count": 159,
   "id": "0b9ff33b-bc95-4804-afb0-2ee5252e83a5",
   "metadata": {},
   "outputs": [],
   "source": [
    "def leapyear(x):\n",
    "    if x%4 == 0:\n",
    "        print(x, \" is a leap Year\")\n",
    "    else:\n",
    "        print(x, \" is not a leap Year\")"
   ]
  },
  {
   "cell_type": "code",
   "execution_count": 166,
   "id": "46b80265-b831-42c0-882c-7459f36bf546",
   "metadata": {},
   "outputs": [
    {
     "name": "stdout",
     "output_type": "stream",
     "text": [
      "2024  is a leap Year\n"
     ]
    }
   ],
   "source": [
    "leapyear(2024)"
   ]
  },
  {
   "cell_type": "markdown",
   "id": "be836126-a288-457a-b5b8-fe5084e19c78",
   "metadata": {},
   "source": [
    "### 14. Grades Classification: Write a Python program that takes a student’s percentage as input and prints their corresponding grade according to the following criteria: – 90% or above: A+ – 80-89%: A – 70-79%: B – 60-69%: C – Below 60%: Fail"
   ]
  },
  {
   "cell_type": "code",
   "execution_count": 172,
   "id": "6980e79e-5678-4c2e-a537-91d7de0e7d49",
   "metadata": {},
   "outputs": [],
   "source": [
    "def grades(x):\n",
    "    if x >= 90:\n",
    "        print(x, \" is A +\") \n",
    "    elif x in (80, 89):\n",
    "        print(x, \" is A\") \n",
    "    elif x in (70, 79):\n",
    "        print(x, \" is B\") \n",
    "    elif x in (60, 69):\n",
    "        print(x, \" is C\") \n",
    "    else:\n",
    "        print(x, \" is Fail\") "
   ]
  },
  {
   "cell_type": "code",
   "execution_count": 178,
   "id": "06f68be6-d573-4e4a-bfc9-7675a5615a18",
   "metadata": {},
   "outputs": [
    {
     "name": "stdout",
     "output_type": "stream",
     "text": [
      "59  is Fail\n"
     ]
    }
   ],
   "source": [
    "grades(59)"
   ]
  },
  {
   "cell_type": "markdown",
   "id": "c746ab1a-1104-4b30-a37e-c792bfd5aece",
   "metadata": {},
   "source": [
    "15. ### Vowel or Consonant: Write a Python program that takes a single character as input and determines whether it is a vowel or a consonant."
   ]
  },
  {
   "cell_type": "code",
   "execution_count": 179,
   "id": "a6652f09-5552-4461-b2bf-f190729be072",
   "metadata": {},
   "outputs": [],
   "source": [
    "def isvowel(x):\n",
    "    vowels = ['a', 'e', 'i', 'o', 'u']\n",
    "    if x.lower() in vowels:\n",
    "        print( x, \" is a vowel\")\n",
    "    else:\n",
    "        print( x, \" is a consonent\")"
   ]
  },
  {
   "cell_type": "code",
   "execution_count": 187,
   "id": "58be0846-70a4-4669-889b-bcb8db2fd227",
   "metadata": {},
   "outputs": [
    {
     "name": "stdout",
     "output_type": "stream",
     "text": [
      "b  is a consonent\n"
     ]
    }
   ],
   "source": [
    "isvowel('b')"
   ]
  },
  {
   "cell_type": "markdown",
   "id": "1ac11536-10cd-4bfc-9719-bef4b176aca8",
   "metadata": {},
   "source": [
    "### 16. Time Classification: Write a Python program that takes the time in hours (24-hour format) as input and prints “Good Morning”, “Good Afternoon”, “Good Evening”, or “Good Night” based on the time."
   ]
  },
  {
   "cell_type": "code",
   "execution_count": 215,
   "id": "2c4637df-a5c2-4630-95fe-96949f63bd65",
   "metadata": {},
   "outputs": [],
   "source": [
    "def time(x):\n",
    "    if x >= 0 and x < 12:\n",
    "        print (\"Good Morning!\")\n",
    "    elif x >= 12 and x < 16:\n",
    "        print (\"Good Afternoon!\")\n",
    "    elif x >= 16 and x < 19:\n",
    "        print (\"Good Evening!\")\n",
    "    elif x >= 19 and x < 24:\n",
    "        print (\"Good Night!\")       \n"
   ]
  },
  {
   "cell_type": "code",
   "execution_count": 220,
   "id": "4ff239c5-02e9-46c0-b752-35d3da4378f8",
   "metadata": {},
   "outputs": [
    {
     "name": "stdout",
     "output_type": "stream",
     "text": [
      "Good Night!\n"
     ]
    }
   ],
   "source": [
    "time(19.30)"
   ]
  },
  {
   "cell_type": "markdown",
   "id": "347893bd-111c-4fae-a7e6-453861d40107",
   "metadata": {},
   "source": [
    "### 17. Triangle Type Checker: Write a Python program that takes three sides of a triangle as input and determines whether it forms an equilateral, isosceles, or scalene triangle."
   ]
  },
  {
   "cell_type": "code",
   "execution_count": 232,
   "id": "a23ec55b-e601-46d2-af98-e362e1b92f14",
   "metadata": {},
   "outputs": [],
   "source": [
    "def checktriangle(x, y, z):  \n",
    "    triangle = \"\" \n",
    "    if x == y and y == z:\n",
    "        triangle = \"equilateral\"\n",
    "    elif x == y or x == z:\n",
    "        triangle = \"isoseles\"\n",
    "    else:\n",
    "        triangle = \"scalene\"\n",
    "        \n",
    "    print(f\"it is {triangle} triangle\")"
   ]
  },
  {
   "cell_type": "code",
   "execution_count": 236,
   "id": "cc91dae7-6426-4baf-a92d-c55bebab9d12",
   "metadata": {},
   "outputs": [
    {
     "name": "stdout",
     "output_type": "stream",
     "text": [
      "it is isoseles triangle\n"
     ]
    }
   ],
   "source": [
    "checktriangle(2, 3, 2)"
   ]
  },
  {
   "cell_type": "markdown",
   "id": "28e045fc-3d9b-40fa-bfa2-0665d51451cf",
   "metadata": {},
   "source": [
    "### 18. Quadratic Equation Solver: Write a Python program that takes the coefficients (a, b, c) of a quadratic equation as input and calculates and prints the real roots (if they exist) or a message indicating the complex roots."
   ]
  },
  {
   "cell_type": "markdown",
   "id": "dfbf0b92-77a3-40e9-8c27-86bfbd01c6ef",
   "metadata": {},
   "source": [
    " quadratic equation:  ax**2 + bx + c\n",
    "\n",
    "x = (-b + sqrt(b**2 - 4 a*c))/2a or \n",
    "\n",
    "x = (-b - sqrt(b**2 - 4 a*c))/2a\n",
    "\n"
   ]
  },
  {
   "cell_type": "code",
   "execution_count": 251,
   "id": "4e355f23-b052-4201-99e5-ba7a84aba4ec",
   "metadata": {},
   "outputs": [
    {
     "name": "stdin",
     "output_type": "stream",
     "text": [
      "Enter number a : 2\n",
      "Enter number b : 4\n",
      "Enter number c : 1\n"
     ]
    }
   ],
   "source": [
    "import math\n",
    "a = int(input(\"Enter number a :\"))\n",
    "b = int(input(\"Enter number b :\"))\n",
    "c = int(input(\"Enter number c :\"))\n",
    "\n",
    "if a == 0:\n",
    "    print(\"This is not a quadratic equation (a cannot be 0).\")\n",
    "else:\n",
    "    discriminant = b ** 2 - 4 * a * c\n",
    "\n",
    "    if discriminant > 0:\n",
    "        root1 = (-b + math.sqrt(discriminant))/(2 * a)\n",
    "        root2 = (-b - math.sqrt(discriminant))/(2 * a)\n",
    "    elif discriminant == 0:    \n",
    "        root = -b / (2 * a)\n",
    "    else:\n",
    "        real_part = -b / (2 * a)\n",
    "        imaginary_part = math.sqrt(-discriminant) / (2 * a)\n",
    "        print(f\"The equation has complex roots: {real_part:.2f} ± {imaginary_part:.2f}i\")"
   ]
  },
  {
   "cell_type": "markdown",
   "id": "e4f2c2a5-581c-4f1c-8ba5-6742d9edc06a",
   "metadata": {},
   "source": [
    "### 19. Number Ranges: Write a Python program that takes an integer as input and prints whether the number falls within the ranges: 0-50, 51-100, 101-150, or above 150."
   ]
  },
  {
   "cell_type": "code",
   "execution_count": 265,
   "id": "4ee3245d-23ee-4c83-9e08-407d692d0ab9",
   "metadata": {},
   "outputs": [],
   "source": [
    "def numberrange(n):\n",
    "    if n in range(51):\n",
    "        print(f\"The number {n} falls between 0 and 50\")\n",
    "    elif n in range(51, 100):\n",
    "        print(f\"The number {n} falls between 51 and 100\")\n",
    "    elif n in range(101, 150):\n",
    "        print(f\"The number {n} falls between 101 and 150\")   \n",
    "    else:\n",
    "        print(f\"The number {n} is greater than 150\")"
   ]
  },
  {
   "cell_type": "code",
   "execution_count": 266,
   "id": "a0369c34-52fb-4b83-b77e-a951df7413bb",
   "metadata": {},
   "outputs": [
    {
     "name": "stdin",
     "output_type": "stream",
     "text": [
      "Please enter a valid number: 300\n"
     ]
    },
    {
     "name": "stdout",
     "output_type": "stream",
     "text": [
      "The number 300 is greater than 150\n"
     ]
    }
   ],
   "source": [
    "x = int(input(\"Please enter a valid number:\"))\n",
    "numberrange(x)"
   ]
  },
  {
   "cell_type": "markdown",
   "id": "af437383-019e-413d-9ad2-4e12741a2b4e",
   "metadata": {},
   "source": [
    "### For & While Loops:\n",
    "### 20. Sum of N Numbers: Write a Python program using a for loop to calculate the sum of the first N natural numbers, where N is taken as input from the user."
   ]
  },
  {
   "cell_type": "code",
   "execution_count": 296,
   "id": "3a0ab72c-4ed2-4419-8a50-7e29440f21c0",
   "metadata": {},
   "outputs": [],
   "source": [
    "def sumofnumbers(x):\n",
    "    sum = 0\n",
    "    for n in range(x+1):        \n",
    "        print(f\"{sum} plus {n} = \", sum + n)      \n",
    "        sum += n"
   ]
  },
  {
   "cell_type": "code",
   "execution_count": 297,
   "id": "5c3d1333-8adc-4a82-b4d1-acb8219d9e54",
   "metadata": {},
   "outputs": [
    {
     "name": "stdout",
     "output_type": "stream",
     "text": [
      "0 plus 0 =  0\n",
      "0 plus 1 =  1\n",
      "1 plus 2 =  3\n",
      "3 plus 3 =  6\n",
      "6 plus 4 =  10\n",
      "10 plus 5 =  15\n",
      "15 plus 6 =  21\n",
      "21 plus 7 =  28\n",
      "28 plus 8 =  36\n",
      "36 plus 9 =  45\n",
      "45 plus 10 =  55\n"
     ]
    }
   ],
   "source": [
    "sumofnumbers(10)"
   ]
  },
  {
   "cell_type": "markdown",
   "id": "6fe3d8ae-875d-4e9c-9843-7c6688707ca2",
   "metadata": {},
   "source": [
    "### 21. Factorial Calculator: Write a Python program using a while loop to calculate the factorial of a given number N."
   ]
  },
  {
   "cell_type": "code",
   "execution_count": 308,
   "id": "b8ce9f8a-9b84-46bc-811e-ec6dfaae6473",
   "metadata": {},
   "outputs": [],
   "source": [
    "def fact(n):\n",
    "    if n == 0:\n",
    "        return 1\n",
    "    result = n * fact(n - 1)\n",
    "    return result"
   ]
  },
  {
   "cell_type": "code",
   "execution_count": 312,
   "id": "f0d78926-d197-49d8-b031-f0c525825d53",
   "metadata": {},
   "outputs": [
    {
     "name": "stdin",
     "output_type": "stream",
     "text": [
      "Enter a valid number : 6\n"
     ]
    },
    {
     "data": {
      "text/plain": [
       "720"
      ]
     },
     "execution_count": 312,
     "metadata": {},
     "output_type": "execute_result"
    }
   ],
   "source": [
    "number = int(input(\"Enter a valid number :\"))\n",
    "fact(number)"
   ]
  },
  {
   "cell_type": "markdown",
   "id": "b88b2c4b-9de9-4763-9e1b-a36f92e5d4ea",
   "metadata": {},
   "source": [
    "### 22. Table of a Number: Write a Python program using a for loop to print the multiplication table of a given number N."
   ]
  },
  {
   "cell_type": "code",
   "execution_count": 320,
   "id": "a1c52b94-1fc4-4b78-82e9-348cf8a896a1",
   "metadata": {},
   "outputs": [],
   "source": [
    "def timestable(x):\n",
    "    for i in range(1, 11):\n",
    "        print(f\"{i} times {x} = \", i * x)\n",
    "              "
   ]
  },
  {
   "cell_type": "code",
   "execution_count": 321,
   "id": "82c41e5c-4144-4f91-a8a2-182e6a5e99f6",
   "metadata": {},
   "outputs": [
    {
     "name": "stdin",
     "output_type": "stream",
     "text": [
      "Enter a valid number : 10\n"
     ]
    },
    {
     "name": "stdout",
     "output_type": "stream",
     "text": [
      "1 times 10 =  10\n",
      "2 times 10 =  20\n",
      "3 times 10 =  30\n",
      "4 times 10 =  40\n",
      "5 times 10 =  50\n",
      "6 times 10 =  60\n",
      "7 times 10 =  70\n",
      "8 times 10 =  80\n",
      "9 times 10 =  90\n",
      "10 times 10 =  100\n"
     ]
    }
   ],
   "source": [
    "number = int(input(\"Enter a valid number :\"))\n",
    "timestable(number)"
   ]
  },
  {
   "cell_type": "markdown",
   "id": "ff482ebb-835b-428d-b67d-5f9dda18ad29",
   "metadata": {},
   "source": [
    "### 23. Count Digits in a Number: Write a Python program using a while loop to count the number of digits in a given integer N."
   ]
  },
  {
   "cell_type": "code",
   "execution_count": 333,
   "id": "fb250cda-c43a-40b8-9291-f10065bad1c1",
   "metadata": {},
   "outputs": [],
   "source": [
    "def counter(x):\n",
    "   return len(str(x))   "
   ]
  },
  {
   "cell_type": "code",
   "execution_count": 335,
   "id": "8c7f9592-4a4b-4526-973b-fff49759b33f",
   "metadata": {},
   "outputs": [
    {
     "name": "stdin",
     "output_type": "stream",
     "text": [
      "Please enter a number : 1011\n"
     ]
    },
    {
     "data": {
      "text/plain": [
       "4"
      ]
     },
     "execution_count": 335,
     "metadata": {},
     "output_type": "execute_result"
    }
   ],
   "source": [
    "userinput = int(input(\"Please enter a number :\"))\n",
    "counter(userinput)"
   ]
  },
  {
   "cell_type": "markdown",
   "id": "c2cba52a-3960-4d36-b1ef-67682f18ce0c",
   "metadata": {},
   "source": [
    "### 24. Fibonacci Sequence: Write a Python program using a for loop to generate the Fibonacci sequence up to a given limit N."
   ]
  },
  {
   "cell_type": "code",
   "execution_count": null,
   "id": "c27a07f2-d6f5-48c6-8c0b-605612cc0e51",
   "metadata": {},
   "outputs": [],
   "source": []
  },
  {
   "cell_type": "markdown",
   "id": "9dc38dd2-7182-4ce1-ad38-d0727dc83f62",
   "metadata": {},
   "source": [
    "### 25. Sum of Even Numbers: Write a Python program using a while loop to calculate the sum of all even numbers between 1 and N, where N is taken as input from the user."
   ]
  },
  {
   "cell_type": "code",
   "execution_count": 361,
   "id": "4357257e-b1e6-4a3d-82fe-2aa5b9ba7232",
   "metadata": {},
   "outputs": [],
   "source": [
    "def sumofeven(n):\n",
    "    sum1 = 0\n",
    "    for i in range(1,n):\n",
    "        if n%2 == 0:\n",
    "            sum1 += n\n",
    "        print(sum1)\n"
   ]
  },
  {
   "cell_type": "code",
   "execution_count": 362,
   "id": "0fed9261-0aa8-434d-8130-7db9fda58638",
   "metadata": {},
   "outputs": [
    {
     "name": "stdin",
     "output_type": "stream",
     "text": [
      "Enter a number:  8\n"
     ]
    },
    {
     "name": "stdout",
     "output_type": "stream",
     "text": [
      "8\n",
      "16\n",
      "24\n",
      "32\n",
      "40\n",
      "48\n",
      "56\n"
     ]
    }
   ],
   "source": [
    "userinput = input(\"Enter a number: \")\n",
    "if userinput.isdigit():    \n",
    "    userinput_int = int(userinput)\n",
    "    type(userinput_int)\n",
    "    sumofeven(userinput_int)\n",
    "    \n",
    "else:\n",
    "    print(\"Enter a valid number\")"
   ]
  },
  {
   "cell_type": "code",
   "execution_count": null,
   "id": "a2390958-655b-4f0a-ac2d-05114822754b",
   "metadata": {},
   "outputs": [],
   "source": []
  },
  {
   "cell_type": "code",
   "execution_count": null,
   "id": "a96e208e-5093-4c7b-a774-e301268b4966",
   "metadata": {},
   "outputs": [],
   "source": []
  }
 ],
 "metadata": {
  "kernelspec": {
   "display_name": "Python 3 (ipykernel)",
   "language": "python",
   "name": "python3"
  },
  "language_info": {
   "codemirror_mode": {
    "name": "ipython",
    "version": 3
   },
   "file_extension": ".py",
   "mimetype": "text/x-python",
   "name": "python",
   "nbconvert_exporter": "python",
   "pygments_lexer": "ipython3",
   "version": "3.12.2"
  }
 },
 "nbformat": 4,
 "nbformat_minor": 5
}
