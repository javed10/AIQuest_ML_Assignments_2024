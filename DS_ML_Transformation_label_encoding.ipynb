{
 "cells": [
  {
   "cell_type": "code",
   "execution_count": 16,
   "id": "f22481f2-ee18-4650-8b17-bf65a0df9406",
   "metadata": {},
   "outputs": [
    {
     "data": {
      "text/plain": [
       "{'ClassA': 0, 'ClassB': 1, 'ClassC': 2, 'ClassD': 3}"
      ]
     },
     "execution_count": 16,
     "metadata": {},
     "output_type": "execute_result"
    }
   ],
   "source": [
    "\n",
    "classes = ['ClassA', 'ClassB', 'ClassC', 'ClassD']\n",
    "# create dictionary\n",
    "label_to_int = {label: index for index, label in enumerate(classes)} \n",
    "label_to_int"
   ]
  },
  {
   "cell_type": "code",
   "execution_count": 31,
   "id": "d409a5e4-7a82-41d8-977a-b85beba7da8c",
   "metadata": {},
   "outputs": [
    {
     "name": "stdout",
     "output_type": "stream",
     "text": [
      "[0, 1, 2, 3, 0, 1, 2, 0, 1]\n"
     ]
    }
   ],
   "source": [
    "instances = ['ClassA', 'ClassB', 'ClassC', 'ClassD', 'ClassA', 'ClassB', 'ClassC', 'ClassA', 'ClassB']\n",
    "encoded_labels = [label_to_int[label] for label in instances]\n",
    "print(encoded_labels)"
   ]
  },
  {
   "cell_type": "code",
   "execution_count": 37,
   "id": "76d2275b-8e25-4183-ba6b-abdfebe4ce7f",
   "metadata": {},
   "outputs": [
    {
     "data": {
      "text/plain": [
       "{0: 'ClassA', 1: 'ClassB', 2: 'ClassC', 3: 'ClassD'}"
      ]
     },
     "execution_count": 37,
     "metadata": {},
     "output_type": "execute_result"
    }
   ],
   "source": [
    "int_to_label = {index:label for label, index in label_to_int.items()}\n",
    "int_to_label "
   ]
  },
  {
   "cell_type": "code",
   "execution_count": 38,
   "id": "f5392317-a8be-440e-8afd-64da24e0ad02",
   "metadata": {},
   "outputs": [
    {
     "name": "stdout",
     "output_type": "stream",
     "text": [
      "ClassA\n",
      "ClassB\n",
      "ClassC\n",
      "ClassD\n"
     ]
    }
   ],
   "source": [
    "for index in int_to_label:\n",
    "    print(int_to_label[index])"
   ]
  },
  {
   "cell_type": "code",
   "execution_count": 39,
   "id": "9856d458-cb58-44b2-abb8-62202bab482e",
   "metadata": {},
   "outputs": [
    {
     "data": {
      "text/plain": [
       "['ClassA',\n",
       " 'ClassB',\n",
       " 'ClassC',\n",
       " 'ClassD',\n",
       " 'ClassA',\n",
       " 'ClassB',\n",
       " 'ClassC',\n",
       " 'ClassA',\n",
       " 'ClassB']"
      ]
     },
     "execution_count": 39,
     "metadata": {},
     "output_type": "execute_result"
    }
   ],
   "source": [
    "decoded_labels = [int_to_label[index] for index in encoded_labels]\n",
    "decoded_labels"
   ]
  },
  {
   "cell_type": "code",
   "execution_count": 17,
   "id": "e82e121e-d508-4662-9025-5d93eebdfa30",
   "metadata": {},
   "outputs": [
    {
     "data": {
      "text/plain": [
       "{'ClassA': 0, 'ClassB': 1, 'ClassC': 2, 'ClassD': 3}"
      ]
     },
     "execution_count": 17,
     "metadata": {},
     "output_type": "execute_result"
    }
   ],
   "source": [
    "classes = ['ClassA', 'ClassB', 'ClassC', 'ClassD']\n",
    "label_to_int = {}\n",
    "for index, value in enumerate(classes):\n",
    "    label_to_int[value] = index\n",
    "label_to_int"
   ]
  },
  {
   "cell_type": "code",
   "execution_count": 18,
   "id": "2b343933-c2a9-4ab1-9439-503da4fb9892",
   "metadata": {},
   "outputs": [
    {
     "name": "stdout",
     "output_type": "stream",
     "text": [
      "ClassA 0\n",
      "ClassB 1\n",
      "ClassC 2\n",
      "ClassD 3\n"
     ]
    }
   ],
   "source": [
    "classes = ['ClassA', 'ClassB', 'ClassC', 'ClassD']\n",
    "for index, value in enumerate(classes):\n",
    "    print(value,index)"
   ]
  },
  {
   "cell_type": "code",
   "execution_count": 23,
   "id": "81c89ff3-ab0a-4141-acc8-e9f1dd5ec7a5",
   "metadata": {},
   "outputs": [
    {
     "name": "stdout",
     "output_type": "stream",
     "text": [
      "(0, 'ClassA')\n",
      "(1, 'ClassB')\n",
      "(2, 'ClassC')\n",
      "(3, 'ClassD')\n"
     ]
    }
   ],
   "source": [
    "classes = ['ClassA', 'ClassB', 'ClassC', 'ClassD']\n",
    "for value in enumerate(classes):\n",
    "    print(value)"
   ]
  },
  {
   "cell_type": "code",
   "execution_count": 24,
   "id": "55c62dbb-f12a-4aac-85f8-df28f66a6f94",
   "metadata": {},
   "outputs": [
    {
     "data": {
      "text/plain": [
       "[(0, 'ClassA'), (1, 'ClassB'), (2, 'ClassC'), (3, 'ClassD')]"
      ]
     },
     "execution_count": 24,
     "metadata": {},
     "output_type": "execute_result"
    }
   ],
   "source": [
    "# The enumerate() function returns both the index and the corresponding label from the classes list. For example:\n",
    "classes = ['ClassA', 'ClassB', 'ClassC', 'ClassD']\n",
    "list(enumerate(classes))"
   ]
  },
  {
   "cell_type": "markdown",
   "id": "5f9e4dfc-1f33-46b2-938a-30e175c716aa",
   "metadata": {},
   "source": [
    "### above encoding decoding is done using python code. In the following we will do the same encoding / decoding using sklearn library classes"
   ]
  },
  {
   "cell_type": "code",
   "execution_count": 1,
   "id": "07e885bf-1408-4737-91cc-da4a6f836c4a",
   "metadata": {},
   "outputs": [],
   "source": [
    "instances = ['ClassA', 'ClassB', 'ClassC', 'ClassD', 'ClassA', 'ClassB', 'ClassC', 'ClassA', 'ClassB']"
   ]
  },
  {
   "cell_type": "code",
   "execution_count": 2,
   "id": "e26ac29e-d4e6-46fa-b193-6a2c6107f85b",
   "metadata": {},
   "outputs": [],
   "source": [
    "from sklearn.preprocessing import LabelEncoder"
   ]
  },
  {
   "cell_type": "code",
   "execution_count": 3,
   "id": "335cf33e-1a4c-45e3-b4ed-2a6b7007e9bf",
   "metadata": {},
   "outputs": [],
   "source": [
    "label_encoder = LabelEncoder()"
   ]
  },
  {
   "cell_type": "code",
   "execution_count": 5,
   "id": "cdff661c-56cc-4cf4-b6bc-7af6c1a56f71",
   "metadata": {},
   "outputs": [
    {
     "data": {
      "text/plain": [
       "array([0, 1, 2, 3, 0, 1, 2, 0, 1], dtype=int64)"
      ]
     },
     "execution_count": 5,
     "metadata": {},
     "output_type": "execute_result"
    }
   ],
   "source": [
    "encoded_labels = label_encoder.fit_transform(instances)\n",
    "encoded_labels "
   ]
  },
  {
   "cell_type": "code",
   "execution_count": 47,
   "id": "e86e78f2-2b60-441f-899b-ec68cc9aa0e0",
   "metadata": {},
   "outputs": [
    {
     "data": {
      "text/plain": [
       "array(['ClassA', 'ClassB', 'ClassC', 'ClassD', 'ClassA', 'ClassB',\n",
       "       'ClassC', 'ClassA', 'ClassB'], dtype='<U6')"
      ]
     },
     "execution_count": 47,
     "metadata": {},
     "output_type": "execute_result"
    }
   ],
   "source": [
    "original_labels = label_encoder.inverse_transform(encoded_labels)\n",
    "original_labels"
   ]
  },
  {
   "cell_type": "code",
   "execution_count": null,
   "id": "b839a525-1a46-44d2-aed2-cc61427126d8",
   "metadata": {},
   "outputs": [],
   "source": []
  }
 ],
 "metadata": {
  "kernelspec": {
   "display_name": "Python 3 (ipykernel)",
   "language": "python",
   "name": "python3"
  },
  "language_info": {
   "codemirror_mode": {
    "name": "ipython",
    "version": 3
   },
   "file_extension": ".py",
   "mimetype": "text/x-python",
   "name": "python",
   "nbconvert_exporter": "python",
   "pygments_lexer": "ipython3",
   "version": "3.12.2"
  }
 },
 "nbformat": 4,
 "nbformat_minor": 5
}
