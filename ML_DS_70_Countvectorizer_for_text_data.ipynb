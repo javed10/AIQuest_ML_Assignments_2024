{
 "cells": [
  {
   "cell_type": "markdown",
   "id": "01b93d77-8c38-4c64-aa21-ca9a842947f1",
   "metadata": {},
   "source": [
    "### CountVectorizer is a data preprocessing tool. It is used for processsing meaningful sentence into numerical data"
   ]
  },
  {
   "cell_type": "code",
   "execution_count": 8,
   "id": "c47699c0-3038-43cd-b7b7-08bb52b247ad",
   "metadata": {},
   "outputs": [],
   "source": [
    "from sklearn.feature_extraction.text import CountVectorizer"
   ]
  },
  {
   "cell_type": "code",
   "execution_count": 9,
   "id": "db3ee3db-d81f-46ae-8e3f-481176839087",
   "metadata": {},
   "outputs": [],
   "source": [
    "dataset = ['I must get a job asap', \n",
    "           'Bangladesh is going under the drain',\n",
    "           'Zena is sleeping',\n",
    "           'I must learn ML ML ML wery well'         \n",
    "          ]"
   ]
  },
  {
   "cell_type": "code",
   "execution_count": 10,
   "id": "66538c9d-d0f5-426b-81fd-2b7cccf624c2",
   "metadata": {},
   "outputs": [],
   "source": [
    "cv = CountVectorizer()"
   ]
  },
  {
   "cell_type": "code",
   "execution_count": 11,
   "id": "da0e5c0f-0f51-4ee1-ad37-48871427a533",
   "metadata": {},
   "outputs": [],
   "source": [
    "x = cv.fit_transform(dataset)"
   ]
  },
  {
   "cell_type": "code",
   "execution_count": 12,
   "id": "38d90023-2d79-4c36-a207-af5983fdf6ce",
   "metadata": {},
   "outputs": [
    {
     "data": {
      "text/plain": [
       "array(['asap', 'bangladesh', 'drain', 'get', 'going', 'is', 'job',\n",
       "       'learn', 'ml', 'must', 'sleeping', 'the', 'under', 'well', 'wery',\n",
       "       'zena'], dtype=object)"
      ]
     },
     "execution_count": 12,
     "metadata": {},
     "output_type": "execute_result"
    }
   ],
   "source": [
    "cv.get_feature_names_out()"
   ]
  },
  {
   "cell_type": "code",
   "execution_count": 13,
   "id": "da25c06b-84d2-46e4-afd0-c0603b142954",
   "metadata": {},
   "outputs": [
    {
     "data": {
      "text/plain": [
       "array([[1, 0, 0, 1, 0, 0, 1, 0, 0, 1, 0, 0, 0, 0, 0, 0],\n",
       "       [0, 1, 1, 0, 1, 1, 0, 0, 0, 0, 0, 1, 1, 0, 0, 0],\n",
       "       [0, 0, 0, 0, 0, 1, 0, 0, 0, 0, 1, 0, 0, 0, 0, 1],\n",
       "       [0, 0, 0, 0, 0, 0, 0, 1, 3, 1, 0, 0, 0, 1, 1, 0]], dtype=int64)"
      ]
     },
     "execution_count": 13,
     "metadata": {},
     "output_type": "execute_result"
    }
   ],
   "source": [
    "x.toarray()"
   ]
  },
  {
   "cell_type": "code",
   "execution_count": null,
   "id": "5ce36d90-5ee9-4f99-8ff0-fc1cba65b3bb",
   "metadata": {},
   "outputs": [],
   "source": [
    "# I or a: not count because one letter. must: is in 10th position so there is 1 in the 10th position of number array on first row\n",
    "# ML: repeated 3 times in 4th line. check the position of the word in name array then find the number 3 in 4th number array"
   ]
  },
  {
   "cell_type": "code",
   "execution_count": null,
   "id": "2b39906a-1e4b-4dc0-a4e8-8b09a6116bc3",
   "metadata": {},
   "outputs": [],
   "source": []
  },
  {
   "cell_type": "code",
   "execution_count": null,
   "id": "5c36cbfe-bc82-49c8-975f-6481fd8eed42",
   "metadata": {},
   "outputs": [],
   "source": []
  }
 ],
 "metadata": {
  "kernelspec": {
   "display_name": "Python 3 (ipykernel)",
   "language": "python",
   "name": "python3"
  },
  "language_info": {
   "codemirror_mode": {
    "name": "ipython",
    "version": 3
   },
   "file_extension": ".py",
   "mimetype": "text/x-python",
   "name": "python",
   "nbconvert_exporter": "python",
   "pygments_lexer": "ipython3",
   "version": "3.12.2"
  }
 },
 "nbformat": 4,
 "nbformat_minor": 5
}
